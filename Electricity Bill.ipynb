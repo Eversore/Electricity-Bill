{
 "cells": [
  {
   "cell_type": "code",
   "execution_count": 55,
   "id": "802c0937",
   "metadata": {},
   "outputs": [],
   "source": [
    "def electricity(monthly_units):\n",
    "    charges = 0\n",
    "    if monthly_units > 0 and monthly_units <= 100:\n",
    "        charges = monthly_units * 9.43\n",
    "    elif monthly_units > 101 and monthly_units <= 200:\n",
    "        charges = monthly_units * 10.29\n",
    "    elif monthly_units > 201 and monthly_units <= 300:\n",
    "        charges = monthly_units * 12.55\n",
    "    elif monthly_units > 301 and monthly_units <= 400:\n",
    "        charges = monthly_units * 17.38\n",
    "    elif monthly_units > 401 and monthly_units <= 500:\n",
    "        charges = monthly_units * 18.84\n",
    "    elif monthly_units > 501 and monthly_units <= 600:\n",
    "        charges = monthly_units * 19.76\n",
    "    elif monthly_units > 601 and monthly_units <= 700:\n",
    "        charges = monthly_units * 20.40\n",
    "    else:\n",
    "        charges = monthly_units * 23.87\n",
    "    return charges"
   ]
  },
  {
   "cell_type": "code",
   "execution_count": 56,
   "id": "3dae28ac",
   "metadata": {},
   "outputs": [],
   "source": [
    "electricity_charges = electricity(525)"
   ]
  },
  {
   "cell_type": "code",
   "execution_count": 57,
   "id": "12be4913",
   "metadata": {},
   "outputs": [],
   "source": [
    "def uniform_charges(monthly_units):\n",
    "    charges = 0\n",
    "    if monthly_units > 0 and monthly_units <= 100:\n",
    "        charges = monthly_units * 13.45\n",
    "    elif monthly_units > 101 and monthly_units <= 200:\n",
    "        charges = monthly_units * 14.36\n",
    "    elif monthly_units > 201 and monthly_units <= 300:\n",
    "        charges = monthly_units * 16.97\n",
    "    elif monthly_units > 301 and monthly_units <= 400:\n",
    "        charges = monthly_units * 21.93\n",
    "    elif monthly_units > 401 and monthly_units <= 500:\n",
    "        charges = monthly_units * 23.39\n",
    "    elif monthly_units > 501 and monthly_units <= 600:\n",
    "        charges = monthly_units * 24.31\n",
    "    elif monthly_units > 601 and monthly_units <= 700:\n",
    "        charges = monthly_units * 24.95\n",
    "    else:\n",
    "        charges = monthly_units * 29.37\n",
    "    return charges\n",
    "                 "
   ]
  },
  {
   "cell_type": "code",
   "execution_count": 58,
   "id": "a26e9b93",
   "metadata": {},
   "outputs": [],
   "source": [
    "uniform_charges = uniform_charges(112)"
   ]
  },
  {
   "cell_type": "code",
   "execution_count": 74,
   "id": "4c8b9e87",
   "metadata": {},
   "outputs": [
    {
     "name": "stdout",
     "output_type": "stream",
     "text": [
      "1608.32\n"
     ]
    }
   ],
   "source": [
    "print(uniform_charges)"
   ]
  },
  {
   "cell_type": "code",
   "execution_count": 59,
   "id": "0b694b08",
   "metadata": {},
   "outputs": [],
   "source": [
    "def fuel_charges(monthly_units):\n",
    "    charges = 0\n",
    "    charges = monthly_units * 17.37\n",
    "    return charges\n"
   ]
  },
  {
   "cell_type": "code",
   "execution_count": 60,
   "id": "c5afebaa",
   "metadata": {},
   "outputs": [],
   "source": [
    "fuel_charges = fuel_charges(349)"
   ]
  },
  {
   "cell_type": "code",
   "execution_count": 75,
   "id": "59d5dde3",
   "metadata": {},
   "outputs": [
    {
     "name": "stdout",
     "output_type": "stream",
     "text": [
      "6062.13\n"
     ]
    }
   ],
   "source": [
    "print(fuel_charges)"
   ]
  },
  {
   "cell_type": "code",
   "execution_count": 61,
   "id": "c9fdb460",
   "metadata": {},
   "outputs": [],
   "source": [
    "def tv_charges(tv_type):\n",
    "    charges = 0\n",
    "    if tv_type == 'domestic':\n",
    "        charges = 35\n",
    "    else:\n",
    "        charges = 60\n",
    "    return charges\n"
   ]
  },
  {
   "cell_type": "code",
   "execution_count": 62,
   "id": "58bb6f78",
   "metadata": {},
   "outputs": [],
   "source": [
    "tv_charges = tv_charges(\"domestic\")"
   ]
  },
  {
   "cell_type": "code",
   "execution_count": 76,
   "id": "1440abad",
   "metadata": {},
   "outputs": [
    {
     "name": "stdout",
     "output_type": "stream",
     "text": [
      "35\n"
     ]
    }
   ],
   "source": [
    "print(tv_charges)"
   ]
  },
  {
   "cell_type": "code",
   "execution_count": 63,
   "id": "59ca61b0",
   "metadata": {},
   "outputs": [],
   "source": [
    "# Residential Customers:\n",
    "def sale_tax_charges(amount,is_active):\n",
    "    charges = 0 \n",
    "    if (amount > 0 and amount <=30000):\n",
    "        charges = 3000 if is_active == True else 6000\n",
    "    elif (amount > 30001 and amount <=50000):\n",
    "        charges = 5000 if is_active == True else 10000\n",
    "    elif (amount <50001):\n",
    "        charges = 10000 if is_active == True else 20000\n",
    "    return charges\n",
    "    \n",
    "    "
   ]
  },
  {
   "cell_type": "code",
   "execution_count": 64,
   "id": "62f6f88c",
   "metadata": {},
   "outputs": [],
   "source": [
    "sale_tax_charges = sale_tax_charges(700,True)"
   ]
  },
  {
   "cell_type": "code",
   "execution_count": 77,
   "id": "5ac64b7c",
   "metadata": {},
   "outputs": [
    {
     "name": "stdout",
     "output_type": "stream",
     "text": [
      "3000\n"
     ]
    }
   ],
   "source": [
    "print(sale_tax_charges)"
   ]
  },
  {
   "cell_type": "code",
   "execution_count": 65,
   "id": "a98c9b64",
   "metadata": {},
   "outputs": [],
   "source": [
    "# Residential Customers:\n",
    "def advance_income_tax_charges(amount,is_active):\n",
    "    charges = 0\n",
    "    if (amount > 0 and amount < 25000):\n",
    "        charges = 0 if is_active == True else 0\n",
    "    elif (amount > 25000):\n",
    "        charges = 0 if is_active == True else 7.5\n",
    "    return charges"
   ]
  },
  {
   "cell_type": "code",
   "execution_count": 66,
   "id": "df0be490",
   "metadata": {},
   "outputs": [],
   "source": [
    " advance_income_tax_charges = advance_income_tax_charges(25000,True)"
   ]
  },
  {
   "cell_type": "code",
   "execution_count": 78,
   "id": "22310fc4",
   "metadata": {},
   "outputs": [
    {
     "name": "stdout",
     "output_type": "stream",
     "text": [
      "0\n"
     ]
    }
   ],
   "source": [
    "print(advance_income_tax_charges)"
   ]
  },
  {
   "cell_type": "code",
   "execution_count": 69,
   "id": "dadb2f4b",
   "metadata": {},
   "outputs": [],
   "source": [
    "def total_charges(electricity_charges,uniform_charges,fuel_charges,tv_charges,sale_tax_charge,advance_income_tax_charges):\n",
    "    total = electricity_charges+uniform_charges+fuel_charges+tv_charges+sale_tax_charge\n",
    "    advance_income_tax_charges = total * (advance_income_tax_charges/100)\n",
    "    return total + advance_income_tax_charges"
   ]
  },
  {
   "cell_type": "code",
   "execution_count": 72,
   "id": "5e1eb218",
   "metadata": {},
   "outputs": [],
   "source": [
    "total = total_charges(electricity_charges,uniform_charges,fuel_charges,tv_charges,sale_tax_charges,advance_income_tax_charges)"
   ]
  },
  {
   "cell_type": "code",
   "execution_count": 73,
   "id": "e0c7e85d",
   "metadata": {},
   "outputs": [
    {
     "name": "stdout",
     "output_type": "stream",
     "text": [
      "21079.45\n"
     ]
    }
   ],
   "source": [
    "print(total)"
   ]
  },
  {
   "cell_type": "code",
   "execution_count": null,
   "id": "fbf058b1",
   "metadata": {},
   "outputs": [],
   "source": [
    "def bill_main(monthly_units):\n",
    "    electricity_charges = electricity(monthly_units)\n",
    "    print(\"electricity_charges of \", monthly_units, \" =\", electricity_charges)"
   ]
  },
  {
   "cell_type": "code",
   "execution_count": 79,
   "id": "269bff8a",
   "metadata": {},
   "outputs": [
    {
     "name": "stdout",
     "output_type": "stream",
     "text": [
      "electricity_charges of  525  = 10374.0\n"
     ]
    }
   ],
   "source": [
    "bill_main(525)"
   ]
  },
  {
   "cell_type": "code",
   "execution_count": null,
   "id": "ebd8eb94",
   "metadata": {},
   "outputs": [],
   "source": [
    "\n",
    "    "
   ]
  },
  {
   "cell_type": "code",
   "execution_count": null,
   "id": "943d8c4f",
   "metadata": {},
   "outputs": [],
   "source": []
  },
  {
   "cell_type": "code",
   "execution_count": null,
   "id": "b7ce96b0",
   "metadata": {},
   "outputs": [],
   "source": []
  }
 ],
 "metadata": {
  "kernelspec": {
   "display_name": "Python 3 (ipykernel)",
   "language": "python",
   "name": "python3"
  },
  "language_info": {
   "codemirror_mode": {
    "name": "ipython",
    "version": 3
   },
   "file_extension": ".py",
   "mimetype": "text/x-python",
   "name": "python",
   "nbconvert_exporter": "python",
   "pygments_lexer": "ipython3",
   "version": "3.9.12"
  }
 },
 "nbformat": 4,
 "nbformat_minor": 5
}
